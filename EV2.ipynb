{
 "cells": [
  {
   "cell_type": "code",
   "execution_count": null,
   "metadata": {},
   "outputs": [],
   "source": [
    "import pandas as pd\n",
    "import numpy as np\n",
    "diccionario_python = {\n",
    "    \"A\":10,\n",
    "    \"B\":20,\n",
    "    \"C\":30,\n",
    "    \"D\":40,\n",
    "    \"E\":50\n",
    "}\n",
    "edades_diccionario=pd.Series(diccionario_python)\n",
    "edades_diccionario"
   ]
  },
  {
   "cell_type": "code",
   "execution_count": null,
   "metadata": {},
   "outputs": [],
   "source": [
    "edades_diccionario.values #para ver los valores \n",
    "edades_diccionario.index #para ver los indices \n",
    "edades_diccionario.info() #para ver la info de las cosas"
   ]
  },
  {
   "cell_type": "code",
   "execution_count": null,
   "metadata": {},
   "outputs": [],
   "source": [
    "nuevos_indices = [\"Pepsi\", \"Manzanita\", \"Sprite\", \"Naranjada\", \"Pepsi light\"]\n",
    "arreglo_numpy = np.array ([10, 20, 30, 40, 50])\n",
    "edades_diccionario=pd.Series(arreglo_numpy, index=nuevos_indices)\n",
    "edades_diccionario"
   ]
  }
 ],
 "metadata": {
  "kernelspec": {
   "display_name": "Python 3",
   "language": "python",
   "name": "python3"
  },
  "language_info": {
   "name": "python",
   "version": "3.12.5"
  }
 },
 "nbformat": 4,
 "nbformat_minor": 2
}
